{
 "cells": [
  {
   "cell_type": "code",
   "execution_count": 4,
   "metadata": {},
   "outputs": [],
   "source": [
    "from ImmuneBuilder import NanoBodyBuilder2"
   ]
  },
  {
   "cell_type": "code",
   "execution_count": 5,
   "metadata": {},
   "outputs": [],
   "source": [
    "Nb51 = {'H': 'QVQLVESGGGSVQAGGSLRLSCAASGSISSITYLGWFRQAPGKEREGVAALSTSSGTTYYADSVKGRFTVSLDNAKNTVYLQMNSLKPEDTALYYCAAAIYGMDYPLTRYWYYYWGQGTQVTVS'}\n",
    "Nb16 = {'H': 'QVQLVESGGGSVQAGGSLRLSCAASGSISSITYLGWFRQAPGKEREGVAALSTSSGTTYYADSVKGRFTVSLDNAKNTVYLQMNSLKPEDTALYYCAAARWGMDWPLTSYWYNYWGQGTQVTVS'}\n",
    "Nb49 = {'H': 'QVQLVESGGGSVQAGGSLRLSCAASGSISSITYLGWFRQAPGKEREGVAALSTSSGTTYYADSVKGRFTVSLDNAKNTVYLQMNSLKPEDTALYYCAAAVTGYYYPLYQEDYQYWGQGTQVTVS'}"
   ]
  },
  {
   "cell_type": "code",
   "execution_count": 6,
   "metadata": {},
   "outputs": [],
   "source": [
    "predictor = NanoBodyBuilder2()\n",
    "for i in range(0,5):\n",
    "    nanobody = predictor.predict(Nb51)\n",
    "    nanobody.save(f'Nb51_{i+1}.pdb')"
   ]
  },
  {
   "cell_type": "code",
   "execution_count": 7,
   "metadata": {},
   "outputs": [],
   "source": [
    "predictor = NanoBodyBuilder2()\n",
    "for i in range(0,5):\n",
    "    nanobody = predictor.predict(Nb49)\n",
    "    nanobody.save(f'Nb49_{i+1}.pdb')"
   ]
  },
  {
   "cell_type": "code",
   "execution_count": 8,
   "metadata": {},
   "outputs": [],
   "source": [
    "predictor = NanoBodyBuilder2()\n",
    "for i in range(0,5):\n",
    "    nanobody = predictor.predict(Nb16)\n",
    "    nanobody.save(f'Nb16_{i+1}.pdb')"
   ]
  }
 ],
 "metadata": {
  "kernelspec": {
   "display_name": "base",
   "language": "python",
   "name": "python3"
  },
  "language_info": {
   "codemirror_mode": {
    "name": "ipython",
    "version": 3
   },
   "file_extension": ".py",
   "mimetype": "text/x-python",
   "name": "python",
   "nbconvert_exporter": "python",
   "pygments_lexer": "ipython3",
   "version": "3.10.11"
  }
 },
 "nbformat": 4,
 "nbformat_minor": 2
}
