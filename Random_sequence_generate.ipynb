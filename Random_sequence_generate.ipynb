{
 "cells": [
  {
   "cell_type": "markdown",
   "metadata": {},
   "source": [
    "# Random Sequence Generate\n",
    "- sequence의 일부분을 random한 amino-acid로 변환해 sequence 생성\n",
    "- csv file로 export\n",
    "- sequence에 대해 structure prediction 진행"
   ]
  },
  {
   "cell_type": "code",
   "execution_count": 5,
   "metadata": {},
   "outputs": [],
   "source": [
    "import torch\n",
    "import random\n",
    "import csv\n",
    "import os\n",
    "import multiprocessing"
   ]
  },
  {
   "cell_type": "markdown",
   "metadata": {},
   "source": [
    "## sequence 입력\n",
    "- 변환할 부분 지정"
   ]
  },
  {
   "cell_type": "code",
   "execution_count": 65,
   "metadata": {},
   "outputs": [],
   "source": [
    "sequence = str(input('sequence를 입력하세요: '))\n",
    "n_aa = int(input('변경 시작할 amino acid 번호를 입력하세요: ')) - 1 # str index 0부터 시작하므로 -1\n",
    "n_change = int(input('변경할 amino acid 수를 입력하세요: '))"
   ]
  },
  {
   "cell_type": "code",
   "execution_count": 66,
   "metadata": {},
   "outputs": [
    {
     "data": {
      "text/plain": [
       "'V'"
      ]
     },
     "execution_count": 66,
     "metadata": {},
     "output_type": "execute_result"
    }
   ],
   "source": [
    "sequence[n_aa]"
   ]
  },
  {
   "cell_type": "markdown",
   "metadata": {},
   "source": [
    "## Random AA로 변환"
   ]
  },
  {
   "cell_type": "code",
   "execution_count": 67,
   "metadata": {},
   "outputs": [],
   "source": [
    "def random_amino_acid():\n",
    "    \"\"\" 임의의 아미노산을 선택하는 함수 \"\"\"\n",
    "    amino_acids = 'ACDEFGHIKLMNPQRSTVWY'  # 20가지 아미노산\n",
    "    return random.choice(amino_acids)"
   ]
  },
  {
   "cell_type": "code",
   "execution_count": 68,
   "metadata": {},
   "outputs": [],
   "source": [
    "def new_protein_sequence(sequence, start_index, num_mutations):\n",
    "    \"\"\" 단백질 서열의 일부를 변이시키는 함수 \"\"\"\n",
    "    new_sequence = list(sequence)  # 문자열을 리스트로 변환하여 가변(mutable)하게 만듦\n",
    "\n",
    "    for i in range(start_index, start_index + num_mutations):\n",
    "        if i < len(sequence):\n",
    "            new_sequence[i] = random_amino_acid()  # 임의의 아미노산으로 변이\n",
    "\n",
    "    return ''.join(new_sequence)  # 리스트를 다시 문자열로 변환하여 반환"
   ]
  },
  {
   "cell_type": "code",
   "execution_count": 69,
   "metadata": {},
   "outputs": [
    {
     "data": {
      "text/plain": [
       "'QVQLVESGGGSVQAGGSLRLSCAASGSISSITYLGWFRQAPGKEREGVAALSTSSGTTYYADSVKGRFTVSLDNAKNTVYLQMNSLKPEDTALYYCAAATQVDDLPWRVGTKCDWGQGTQVTVS'"
      ]
     },
     "execution_count": 69,
     "metadata": {},
     "output_type": "execute_result"
    }
   ],
   "source": [
    "new_sequence = new_protein_sequence(sequence, n_aa, n_change)\n",
    "new_sequence"
   ]
  },
  {
   "cell_type": "markdown",
   "metadata": {},
   "source": [
    "## CSV 파일로 저장"
   ]
  },
  {
   "cell_type": "code",
   "execution_count": 70,
   "metadata": {},
   "outputs": [],
   "source": [
    "def generate_unique_sequences(num_sequences, sequence, start_index, num_mutations):\n",
    "    \"\"\" 중복되지 않은 단백질 서열을 여러 개 생성하는 함수 \"\"\"\n",
    "    sequences = set()  # 중복을 허용하지 않는 집합을 사용하여 고유한 서열을 저장\n",
    "    \n",
    "    while len(sequences) < num_sequences:\n",
    "        sequence = new_protein_sequence(sequence, start_index, num_mutations)\n",
    "        sequences.add(sequence)\n",
    "    \n",
    "    return list(sequences)\n",
    "\n",
    "def save_sequences_to_csv(sequences, filename):\n",
    "    \"\"\" 생성된 서열을 CSV 파일로 저장하는 함수 \"\"\"\n",
    "    with open(filename, 'w', newline='') as csvfile:\n",
    "        writer = csv.writer(csvfile)\n",
    "        writer.writerow(['Sequence'])  # 헤더 추가\n",
    "        \n",
    "        for sequence in sequences:\n",
    "            writer.writerow([sequence])"
   ]
  },
  {
   "cell_type": "code",
   "execution_count": 71,
   "metadata": {},
   "outputs": [
    {
     "data": {
      "text/plain": [
       "['QVQLVESGGGSVQAGGSLRLSCAASGSISSITYLGWFRQAPGKEREGVAALSTSSGTTYYADSVKGRFTVSLDNAKNTVYLQMNSLKPEDTALYYCAAALGQFVREWVNIKNYLWGQGTQVTVS',\n",
       " 'QVQLVESGGGSVQAGGSLRLSCAASGSISSITYLGWFRQAPGKEREGVAALSTSSGTTYYADSVKGRFTVSLDNAKNTVYLQMNSLKPEDTALYYCAAANMEMIYNAWEAYLIFWGQGTQVTVS',\n",
       " 'QVQLVESGGGSVQAGGSLRLSCAASGSISSITYLGWFRQAPGKEREGVAALSTSSGTTYYADSVKGRFTVSLDNAKNTVYLQMNSLKPEDTALYYCAAACLISQVRCWWTEGTMWGQGTQVTVS',\n",
       " 'QVQLVESGGGSVQAGGSLRLSCAASGSISSITYLGWFRQAPGKEREGVAALSTSSGTTYYADSVKGRFTVSLDNAKNTVYLQMNSLKPEDTALYYCAAAKVKQKNVVTSDSQWAWGQGTQVTVS',\n",
       " 'QVQLVESGGGSVQAGGSLRLSCAASGSISSITYLGWFRQAPGKEREGVAALSTSSGTTYYADSVKGRFTVSLDNAKNTVYLQMNSLKPEDTALYYCAAAQYEVPTAECAEPQGCWGQGTQVTVS']"
      ]
     },
     "execution_count": 71,
     "metadata": {},
     "output_type": "execute_result"
    }
   ],
   "source": [
    "unique_sequences = generate_unique_sequences(1000, sequence, n_aa, n_change)\n",
    "unique_sequences[0:5]"
   ]
  },
  {
   "cell_type": "code",
   "execution_count": 72,
   "metadata": {},
   "outputs": [],
   "source": [
    "name = input('파일 이름을 입력하세요: ')\n",
    "csv_filename = f'{name}_replaced_unique_sequences.csv'\n",
    "save_sequences_to_csv(unique_sequences, csv_filename)"
   ]
  },
  {
   "cell_type": "markdown",
   "metadata": {},
   "source": [
    "## Structure Prediction"
   ]
  },
  {
   "cell_type": "code",
   "execution_count": 7,
   "metadata": {},
   "outputs": [],
   "source": [
    "from ImmuneBuilder import NanoBodyBuilder2"
   ]
  },
  {
   "cell_type": "code",
   "execution_count": 20,
   "metadata": {},
   "outputs": [],
   "source": [
    "def Run_NanoBodyBuilder2(csv_path):\n",
    "    name = input('파일 이름을 입력하세요: ')\n",
    "    output_dir = os.path.join(os.getcwd(), name)\n",
    "    os.makedirs(output_dir, exist_ok=True)\n",
    "    try:\n",
    "        with open(csv_path, 'r', newline='') as csvfile:\n",
    "            reader = csv.reader(csvfile)\n",
    "            next(reader)  # 헤더를 건너뜁니다\n",
    "\n",
    "            for idx, row in enumerate(reader):\n",
    "                if len(row) > 0:\n",
    "                    sequence = {'H': row[0]}\n",
    "                    predictor = NanoBodyBuilder2()\n",
    "                    output_file = os.path.join(output_dir, f'{name}_{idx}.pdb')\n",
    "                    nanobody = predictor.predict(sequence)\n",
    "                    nanobody.save(output_file)\n",
    "\n",
    "    except FileNotFoundError:\n",
    "        print(f\"Error: 파일 '{csv_path}'을 찾을 수 없습니다.\")"
   ]
  },
  {
   "cell_type": "code",
   "execution_count": 22,
   "metadata": {},
   "outputs": [],
   "source": [
    "Run_NanoBodyBuilder2('Nb51_replaced_unique_sequences.csv')"
   ]
  },
  {
   "cell_type": "code",
   "execution_count": null,
   "metadata": {},
   "outputs": [],
   "source": []
  }
 ],
 "metadata": {
  "kernelspec": {
   "display_name": "Python 3",
   "language": "python",
   "name": "python3"
  },
  "language_info": {
   "codemirror_mode": {
    "name": "ipython",
    "version": 3
   },
   "file_extension": ".py",
   "mimetype": "text/x-python",
   "name": "python",
   "nbconvert_exporter": "python",
   "pygments_lexer": "ipython3",
   "version": "3.10.11"
  }
 },
 "nbformat": 4,
 "nbformat_minor": 2
}
