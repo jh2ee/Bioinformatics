{
 "cells": [
  {
   "cell_type": "code",
   "execution_count": 6,
   "metadata": {},
   "outputs": [],
   "source": [
    "import os\n",
    "import csv\n",
    "from igfold import IgFoldRunner\n",
    "from igfold.refine.pyrosetta_ref import init_pyrosetta"
   ]
  },
  {
   "cell_type": "code",
   "execution_count": 7,
   "metadata": {},
   "outputs": [
    {
     "data": {
      "text/plain": [
       "'/workspace'"
      ]
     },
     "execution_count": 7,
     "metadata": {},
     "output_type": "execute_result"
    }
   ],
   "source": [
    "os.chdir('/workspace')\n",
    "os.getcwd()"
   ]
  },
  {
   "cell_type": "code",
   "execution_count": null,
   "metadata": {},
   "outputs": [],
   "source": [
    "def IgFold(csv_path):\n",
    "    name = input('파일 이름을 입력하세요: ')\n",
    "    output_dir = os.path.join(os.getcwd(), name)\n",
    "    os.makedirs(output_dir, exist_ok=True)\n",
    "    try:\n",
    "        with open(csv_path, 'r', newline='') as csvfile:\n",
    "            reader = csv.reader(csvfile)\n",
    "            next(reader)  # 헤더를 건너뜁니다\n",
    "\n",
    "            for idx, row in enumerate(reader):\n",
    "                if len(row) > 0:\n",
    "                    sequence = {'H': row[0]}\n",
    "                    output_file = os.path.join(output_dir, f'{name}_{idx}.pdb')\n",
    "                    igfold = IgFoldRunner()\n",
    "                    igfold.fold(\n",
    "                        output_file, # Output PDB file\n",
    "                        sequences=row, # Nanobody sequence\n",
    "                        do_refine=True, # Refine the antibody structure with PyRosetta\n",
    "                        do_renum=True, # Renumber predicted antibody structure (Chothia)\n",
    "                    )\n",
    "                    \n",
    "                    nanobody = predictor.predict(sequence)\n",
    "                    nanobody.save(output_file)\n",
    "\n",
    "    except FileNotFoundError:\n",
    "        print(f\"Error: 파일 '{csv_path}'을 찾을 수 없습니다.\")"
   ]
  },
  {
   "cell_type": "code",
   "execution_count": null,
   "metadata": {},
   "outputs": [],
   "source": [
    "init_pyrosetta()\n",
    "\n",
    "sequences = {\n",
    "    \"H\": \"QVQLQESGGGLVQAGGSLTLSCAVSGLTFSNYAMGWFRQAPGKEREFVAAITWDGGNTYYTDSVKGRFTISRDNAKNTVFLQMNSLKPEDTAVYYCAAKLLGSSRYELALAGYDYWGQGTQVTVS\"\n",
    "}\n",
    "pred_pdb = \"my_nanobody.pdb\"\n",
    "\n"
   ]
  }
 ],
 "metadata": {
  "kernelspec": {
   "display_name": "base",
   "language": "python",
   "name": "python3"
  },
  "language_info": {
   "codemirror_mode": {
    "name": "ipython",
    "version": 3
   },
   "file_extension": ".py",
   "mimetype": "text/x-python",
   "name": "python",
   "nbconvert_exporter": "python",
   "pygments_lexer": "ipython3",
   "version": "3.10.11"
  }
 },
 "nbformat": 4,
 "nbformat_minor": 2
}
