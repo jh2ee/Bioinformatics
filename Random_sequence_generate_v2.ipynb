{
 "cells": [
  {
   "cell_type": "markdown",
   "metadata": {},
   "source": [
    "# Random Sequence Generate V2\n",
    "- sequence의 일부분을 random한 amino-acid로 변환해 sequence 생성\n",
    "- sequence 변이 부분 중 1개 aa만 변환되도록 생성\n",
    "    - e.g. 변이 부분 10인 경우 10*19개 seqeucne 생성\n",
    "    - 각 변이 부분은 현재 aa 제외한 19개 aa로 변이 가능하므로\n",
    "- csv file로 export\n",
    "- sequence에 대해 structure prediction 진행"
   ]
  },
  {
   "cell_type": "code",
   "execution_count": 1,
   "metadata": {},
   "outputs": [],
   "source": [
    "import random\n",
    "import csv\n",
    "import os"
   ]
  },
  {
   "cell_type": "markdown",
   "metadata": {},
   "source": [
    "## sequence 입력\n",
    "- 변환할 부분 지정\n",
    "\n",
    "Nb의 경우 n_aa = 100, n_change = 15"
   ]
  },
  {
   "cell_type": "code",
   "execution_count": 15,
   "metadata": {},
   "outputs": [],
   "source": [
    "sequence = str(input('sequence를 입력하세요: '))\n",
    "n_aa = int(input('변경 시작할 amino acid 번호를 입력하세요: ')) - 1 # str index 0부터 시작하므로 -1\n",
    "n_change = int(input('변경할 amino acid 수를 입력하세요: '))\n",
    "name = input('파일 이름을 입력하세요: ')\n",
    "csv_filename = f'{name}_replaced_one_aa_sequences.csv'"
   ]
  },
  {
   "cell_type": "code",
   "execution_count": 16,
   "metadata": {},
   "outputs": [
    {
     "data": {
      "text/plain": [
       "'V'"
      ]
     },
     "execution_count": 16,
     "metadata": {},
     "output_type": "execute_result"
    }
   ],
   "source": [
    "sequence[n_aa]"
   ]
  },
  {
   "cell_type": "markdown",
   "metadata": {},
   "source": [
    "## Random AA로 변환"
   ]
  },
  {
   "cell_type": "code",
   "execution_count": 17,
   "metadata": {},
   "outputs": [],
   "source": [
    "amino_acids = 'ACDEFGHIKLMNPQRSTVWY'"
   ]
  },
  {
   "cell_type": "code",
   "execution_count": 18,
   "metadata": {},
   "outputs": [],
   "source": [
    "import csv\n",
    "\n",
    "# Amino acids\n",
    "amino_acids = 'ACDEFGHIKLMNPQRSTVWY'\n",
    "\n",
    "def mutate_sequence(sequence, n_aa, n_change):\n",
    "    mutated_sequences = []\n",
    "\n",
    "    # 변이할 구간\n",
    "    segment_to_mutate = sequence[n_aa:n_aa + n_change]\n",
    "    \n",
    "    for i in range(n_change):\n",
    "        for aa in amino_acids:\n",
    "            if segment_to_mutate[i] != aa:  # 원래 아미노산과 다른 경우에만 변이 수행\n",
    "                mutated_sequence = (\n",
    "                    sequence[:n_aa + i] + aa + sequence[n_aa + i + 1:]\n",
    "                )\n",
    "                mutated_sequences.append(mutated_sequence)\n",
    "\n",
    "    return mutated_sequences\n",
    "\n",
    "def save_mutated_sequences_to_csv(sequence, n_aa, n_change, filename='mutated_sequences.csv'):\n",
    "    mutated_sequences = mutate_sequence(sequence, n_aa, n_change)\n",
    "    \n",
    "    # CSV 파일에 변이된 시퀀스 저장\n",
    "    with open(filename, 'w', newline='') as csvfile:\n",
    "        csvwriter = csv.writer(csvfile)\n",
    "        csvwriter.writerow(['Mutated Sequence'])\n",
    "        \n",
    "        for mutated_sequence in mutated_sequences:\n",
    "            csvwriter.writerow([mutated_sequence])\n"
   ]
  },
  {
   "cell_type": "code",
   "execution_count": 19,
   "metadata": {},
   "outputs": [],
   "source": [
    "# 변이된 시퀀스를 CSV 파일로 저장\n",
    "save_mutated_sequences_to_csv(sequence, n_aa, n_change, csv_filename)"
   ]
  },
  {
   "cell_type": "markdown",
   "metadata": {},
   "source": [
    "## Structure Prediction"
   ]
  },
  {
   "cell_type": "code",
   "execution_count": 7,
   "metadata": {},
   "outputs": [],
   "source": [
    "from ImmuneBuilder import NanoBodyBuilder2"
   ]
  },
  {
   "cell_type": "code",
   "execution_count": 20,
   "metadata": {},
   "outputs": [],
   "source": [
    "def Run_NanoBodyBuilder2(csv_path):\n",
    "    name = input('파일 이름을 입력하세요: ')\n",
    "    output_dir = os.path.join(os.getcwd(), name)\n",
    "    os.makedirs(output_dir, exist_ok=True)\n",
    "    try:\n",
    "        with open(csv_path, 'r', newline='') as csvfile:\n",
    "            reader = csv.reader(csvfile)\n",
    "            next(reader)  # 헤더를 건너뜁니다\n",
    "\n",
    "            for idx, row in enumerate(reader):\n",
    "                if len(row) > 0:\n",
    "                    sequence = {'H': row[0]}\n",
    "                    predictor = NanoBodyBuilder2()\n",
    "                    output_file = os.path.join(output_dir, f'{name}_{idx}.pdb')\n",
    "                    nanobody = predictor.predict(sequence)\n",
    "                    nanobody.save(output_file)\n",
    "\n",
    "    except FileNotFoundError:\n",
    "        print(f\"Error: 파일 '{csv_path}'을 찾을 수 없습니다.\")"
   ]
  },
  {
   "cell_type": "code",
   "execution_count": 22,
   "metadata": {},
   "outputs": [],
   "source": [
    "Run_NanoBodyBuilder2('Nb51_replaced_unique_sequences.csv')"
   ]
  },
  {
   "cell_type": "code",
   "execution_count": null,
   "metadata": {},
   "outputs": [],
   "source": []
  }
 ],
 "metadata": {
  "kernelspec": {
   "display_name": "Python 3",
   "language": "python",
   "name": "python3"
  },
  "language_info": {
   "codemirror_mode": {
    "name": "ipython",
    "version": 3
   },
   "file_extension": ".py",
   "mimetype": "text/x-python",
   "name": "python",
   "nbconvert_exporter": "python",
   "pygments_lexer": "ipython3",
   "version": "3.10.11"
  }
 },
 "nbformat": 4,
 "nbformat_minor": 2
}
