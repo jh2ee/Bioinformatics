{
 "cells": [
  {
   "cell_type": "markdown",
   "metadata": {},
   "source": [
    "# Sequence 변이 부분 확인\n",
    "- sequence의 변이 부분 입력\n",
    "- 변이 구간 내 모든 aa 변환된 sequence 포함 여부 확인"
   ]
  },
  {
   "cell_type": "code",
   "execution_count": 2,
   "metadata": {},
   "outputs": [],
   "source": [
    "import os\n",
    "import pandas as pd"
   ]
  },
  {
   "cell_type": "code",
   "execution_count": 3,
   "metadata": {},
   "outputs": [
    {
     "data": {
      "text/plain": [
       "'/workspace/Random_Domains'"
      ]
     },
     "execution_count": 3,
     "metadata": {},
     "output_type": "execute_result"
    }
   ],
   "source": [
    "os.getcwd()"
   ]
  },
  {
   "cell_type": "markdown",
   "metadata": {},
   "source": [
    "## csv load"
   ]
  },
  {
   "cell_type": "code",
   "execution_count": 4,
   "metadata": {},
   "outputs": [
    {
     "data": {
      "text/html": [
       "<div>\n",
       "<style scoped>\n",
       "    .dataframe tbody tr th:only-of-type {\n",
       "        vertical-align: middle;\n",
       "    }\n",
       "\n",
       "    .dataframe tbody tr th {\n",
       "        vertical-align: top;\n",
       "    }\n",
       "\n",
       "    .dataframe thead th {\n",
       "        text-align: right;\n",
       "    }\n",
       "</style>\n",
       "<table border=\"1\" class=\"dataframe\">\n",
       "  <thead>\n",
       "    <tr style=\"text-align: right;\">\n",
       "      <th></th>\n",
       "      <th>Sequence</th>\n",
       "    </tr>\n",
       "  </thead>\n",
       "  <tbody>\n",
       "    <tr>\n",
       "      <th>0</th>\n",
       "      <td>QVQLVESGGGSVQAGGSLRLSCAASGSISSITYLGWFRQAPGKERE...</td>\n",
       "    </tr>\n",
       "    <tr>\n",
       "      <th>1</th>\n",
       "      <td>QVQLVESGGGSVQAGGSLRLSCAASGSISSITYLGWFRQAPGKERE...</td>\n",
       "    </tr>\n",
       "    <tr>\n",
       "      <th>2</th>\n",
       "      <td>QVQLVESGGGSVQAGGSLRLSCAASGSISSITYLGWFRQAPGKERE...</td>\n",
       "    </tr>\n",
       "    <tr>\n",
       "      <th>3</th>\n",
       "      <td>QVQLVESGGGSVQAGGSLRLSCAASGSISSITYLGWFRQAPGKERE...</td>\n",
       "    </tr>\n",
       "    <tr>\n",
       "      <th>4</th>\n",
       "      <td>QVQLVESGGGSVQAGGSLRLSCAASGSISSITYLGWFRQAPGKERE...</td>\n",
       "    </tr>\n",
       "  </tbody>\n",
       "</table>\n",
       "</div>"
      ],
      "text/plain": [
       "                                            Sequence\n",
       "0  QVQLVESGGGSVQAGGSLRLSCAASGSISSITYLGWFRQAPGKERE...\n",
       "1  QVQLVESGGGSVQAGGSLRLSCAASGSISSITYLGWFRQAPGKERE...\n",
       "2  QVQLVESGGGSVQAGGSLRLSCAASGSISSITYLGWFRQAPGKERE...\n",
       "3  QVQLVESGGGSVQAGGSLRLSCAASGSISSITYLGWFRQAPGKERE...\n",
       "4  QVQLVESGGGSVQAGGSLRLSCAASGSISSITYLGWFRQAPGKERE..."
      ]
     },
     "execution_count": 4,
     "metadata": {},
     "output_type": "execute_result"
    }
   ],
   "source": [
    "data = pd.read_csv('Nb16_replaced_unique_sequences.csv')\n",
    "data[0:5]"
   ]
  },
  {
   "cell_type": "code",
   "execution_count": 5,
   "metadata": {},
   "outputs": [],
   "source": [
    "n_change = 15   # 변이되는 aa 수\n",
    "n_start = 100   # 변이 시작되는 aa idx"
   ]
  },
  {
   "cell_type": "code",
   "execution_count": null,
   "metadata": {},
   "outputs": [],
   "source": [
    "def check_sequence(target, sequence, n_start, n_change):\n",
    "    for i in range(n_change):\n",
    "        if sequence[n_start-1 + i] == target[n_start-1 + i]:\n",
    "            break\n",
    "        else:\n",
    "            print('Exists!')"
   ]
  },
  {
   "cell_type": "code",
   "execution_count": null,
   "metadata": {},
   "outputs": [],
   "source": [
    "for i in data.index:\n",
    "    seq = data.get_value(i, 0)\n",
    "    "
   ]
  }
 ],
 "metadata": {
  "kernelspec": {
   "display_name": "base",
   "language": "python",
   "name": "python3"
  },
  "language_info": {
   "codemirror_mode": {
    "name": "ipython",
    "version": 3
   },
   "file_extension": ".py",
   "mimetype": "text/x-python",
   "name": "python",
   "nbconvert_exporter": "python",
   "pygments_lexer": "ipython3",
   "version": "3.10.11"
  }
 },
 "nbformat": 4,
 "nbformat_minor": 2
}
