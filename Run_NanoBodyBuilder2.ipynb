{
 "cells": [
  {
   "cell_type": "code",
   "execution_count": 1,
   "metadata": {},
   "outputs": [],
   "source": [
    "from ImmuneBuilder import NanoBodyBuilder2\n",
    "import os\n",
    "import csv"
   ]
  },
  {
   "cell_type": "code",
   "execution_count": 2,
   "metadata": {},
   "outputs": [],
   "source": [
    "def Run_NanoBodyBuilder2(csv_path):\n",
    "    name = input('파일 이름을 입력하세요: ')\n",
    "    output_dir = os.path.join(os.getcwd(), name)\n",
    "    os.makedirs(output_dir, exist_ok=True)\n",
    "    try:\n",
    "        with open(csv_path, 'r', newline='') as csvfile:\n",
    "            reader = csv.reader(csvfile)\n",
    "            next(reader)  # 헤더를 건너뜁니다\n",
    "\n",
    "            for idx, row in enumerate(reader):\n",
    "                if len(row) > 0:\n",
    "                    sequence = {'H': row[0]}\n",
    "                    predictor = NanoBodyBuilder2()\n",
    "                    output_file = os.path.join(output_dir, f'{name}_{idx}.pdb')\n",
    "                    nanobody = predictor.predict(sequence)\n",
    "                    nanobody.save(output_file)\n",
    "\n",
    "    except FileNotFoundError:\n",
    "        print(f\"Error: 파일 '{csv_path}'을 찾을 수 없습니다.\")"
   ]
  },
  {
   "cell_type": "code",
   "execution_count": 3,
   "metadata": {},
   "outputs": [],
   "source": [
    "Run_NanoBodyBuilder2('./Nb_pose_1000*3/Nb16_replaced_unique_sequences.csv')"
   ]
  },
  {
   "cell_type": "code",
   "execution_count": null,
   "metadata": {},
   "outputs": [],
   "source": []
  }
 ],
 "metadata": {
  "kernelspec": {
   "display_name": "base",
   "language": "python",
   "name": "python3"
  },
  "language_info": {
   "codemirror_mode": {
    "name": "ipython",
    "version": 3
   },
   "file_extension": ".py",
   "mimetype": "text/x-python",
   "name": "python",
   "nbconvert_exporter": "python",
   "pygments_lexer": "ipython3",
   "version": "3.10.11"
  }
 },
 "nbformat": 4,
 "nbformat_minor": 2
}
